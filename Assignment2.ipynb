{
  "nbformat": 4,
  "nbformat_minor": 0,
  "metadata": {
    "colab": {
      "name": "Assignment2",
      "provenance": [],
      "authorship_tag": "ABX9TyMSk92K+eqQidOeONCIFzX3",
      "include_colab_link": true
    },
    "kernelspec": {
      "name": "python3",
      "display_name": "Python 3"
    }
  },
  "cells": [
    {
      "cell_type": "markdown",
      "metadata": {
        "id": "view-in-github",
        "colab_type": "text"
      },
      "source": [
        "<a href=\"https://colab.research.google.com/github/Nagapunith/New-python/blob/master/Assignment2.ipynb\" target=\"_parent\"><img src=\"https://colab.research.google.com/assets/colab-badge.svg\" alt=\"Open In Colab\"/></a>"
      ]
    },
    {
      "cell_type": "code",
      "metadata": {
        "id": "EgIP5WPdMZ7z",
        "colab_type": "code",
        "colab": {
          "base_uri": "https://localhost:8080/",
          "height": 67
        },
        "outputId": "1fe559a3-4764-431e-e85b-4b01013ce445"
      },
      "source": [
        "a=int(input())\n",
        "b=int(input())\n",
        "c=(a+b)\n",
        "print(c)"
      ],
      "execution_count": 1,
      "outputs": [
        {
          "output_type": "stream",
          "text": [
            "8\n",
            "9\n",
            "17\n"
          ],
          "name": "stdout"
        }
      ]
    },
    {
      "cell_type": "code",
      "metadata": {
        "id": "UzpNjYU_MpaV",
        "colab_type": "code",
        "colab": {
          "base_uri": "https://localhost:8080/",
          "height": 50
        },
        "outputId": "2aee507d-138a-4c94-e6ef-c2c4dafc207a"
      },
      "source": [
        "a=str(input(\"enter your name\"))\n",
        "print(\"hello\",a)"
      ],
      "execution_count": 5,
      "outputs": [
        {
          "output_type": "stream",
          "text": [
            "enter your namepunith\n",
            "hello punith\n"
          ],
          "name": "stdout"
        }
      ]
    },
    {
      "cell_type": "code",
      "metadata": {
        "id": "foqXc1A4NJcj",
        "colab_type": "code",
        "colab": {
          "base_uri": "https://localhost:8080/",
          "height": 67
        },
        "outputId": "b2e1ecfd-436a-410a-9253-58a8fec56936"
      },
      "source": [
        "hours=int(input(\"Enter hours:\"))\n",
        "rate=float(input(\"Enter rate:\"))\n",
        "pay=hours*rate\n",
        "print(\"Pay\",pay)\n"
      ],
      "execution_count": 7,
      "outputs": [
        {
          "output_type": "stream",
          "text": [
            "Enter hours:35\n",
            "Enter rate:2.75\n",
            "Pay 96.25\n"
          ],
          "name": "stdout"
        }
      ]
    },
    {
      "cell_type": "code",
      "metadata": {
        "id": "ORTWz9irODNr",
        "colab_type": "code",
        "colab": {
          "base_uri": "https://localhost:8080/",
          "height": 84
        },
        "outputId": "a95166be-b41d-4f29-bf39-b0f9bdfe4811"
      },
      "source": [
        "width=17\n",
        "height=12\n",
        "a=width//2\n",
        "print(a,type(a))\n",
        "b=width/2.0\n",
        "print(b,type(b))\n",
        "c=height/3\n",
        "print(c,type(c))\n",
        "d=1+2*5\n",
        "print(d,type(d))"
      ],
      "execution_count": 11,
      "outputs": [
        {
          "output_type": "stream",
          "text": [
            "8 <class 'int'>\n",
            "8.5 <class 'float'>\n",
            "4.0 <class 'float'>\n",
            "11 <class 'int'>\n"
          ],
          "name": "stdout"
        }
      ]
    },
    {
      "cell_type": "code",
      "metadata": {
        "id": "9kCUVvQOPEGt",
        "colab_type": "code",
        "colab": {
          "base_uri": "https://localhost:8080/",
          "height": 50
        },
        "outputId": "9ed65ff7-d13b-46e5-a5bc-90101d46c821"
      },
      "source": [
        "celsuis=float(input(\"Enter temperature\"))\n",
        "farenhiet=(celsuis*1.8)+32\n",
        "print(\"The temperature in farenhiet\",farenhiet)"
      ],
      "execution_count": 12,
      "outputs": [
        {
          "output_type": "stream",
          "text": [
            "Enter temperature37.5\n",
            "The temperature in farenhiet 99.5\n"
          ],
          "name": "stdout"
        }
      ]
    },
    {
      "cell_type": "code",
      "metadata": {
        "id": "hoquM8ZWQm5G",
        "colab_type": "code",
        "colab": {}
      },
      "source": [
        ""
      ],
      "execution_count": null,
      "outputs": []
    }
  ]
}