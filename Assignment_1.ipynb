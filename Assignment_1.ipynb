{
  "nbformat": 4,
  "nbformat_minor": 0,
  "metadata": {
    "colab": {
      "name": "Assignment 1",
      "provenance": [],
      "authorship_tag": "ABX9TyPXgZJnAlTM468za374Is4f",
      "include_colab_link": true
    },
    "kernelspec": {
      "name": "python3",
      "display_name": "Python 3"
    }
  },
  "cells": [
    {
      "cell_type": "markdown",
      "metadata": {
        "id": "view-in-github",
        "colab_type": "text"
      },
      "source": [
        "<a href=\"https://colab.research.google.com/github/Nagapunith/New-python/blob/master/Assignment_1.ipynb\" target=\"_parent\"><img src=\"https://colab.research.google.com/assets/colab-badge.svg\" alt=\"Open In Colab\"/></a>"
      ]
    },
    {
      "cell_type": "code",
      "metadata": {
        "id": "SrZP-5KM457d",
        "colab_type": "code",
        "colab": {
          "base_uri": "https://localhost:8080/",
          "height": 151
        },
        "outputId": "beb4dd14-0d38-4820-da93-4bf29fc797a1"
      },
      "source": [
        "a=int(input())\n",
        "b=int(input())\n",
        "print(a+b)\n",
        "print(a-b)\n",
        "print(a/b)\n",
        "print(a%b)\n",
        "print(a**b)\n",
        "print(a//b)"
      ],
      "execution_count": null,
      "outputs": [
        {
          "output_type": "stream",
          "text": [
            "5\n",
            "5\n",
            "10\n",
            "0\n",
            "1.0\n",
            "0\n",
            "3125\n",
            "1\n"
          ],
          "name": "stdout"
        }
      ]
    },
    {
      "cell_type": "code",
      "metadata": {
        "id": "6TDBr1Zf5m--",
        "colab_type": "code",
        "colab": {
          "base_uri": "https://localhost:8080/",
          "height": 84
        },
        "outputId": "c0c8b2f5-576f-4a55-d528-91e8a28142d3"
      },
      "source": [
        "p=int(input())\n",
        "t=int(input())\n",
        "r=int(input())\n",
        "si=(p*t*r)/100\n",
        "print(\"the si is\",si)"
      ],
      "execution_count": null,
      "outputs": [
        {
          "output_type": "stream",
          "text": [
            "50\n",
            "2\n",
            "10\n",
            "the si is 10.0\n"
          ],
          "name": "stdout"
        }
      ]
    },
    {
      "cell_type": "code",
      "metadata": {
        "id": "YnXk38ly8qK0",
        "colab_type": "code",
        "colab": {
          "base_uri": "https://localhost:8080/",
          "height": 50
        },
        "outputId": "1f5d5877-b973-411d-e326-c2839d9513ad"
      },
      "source": [
        "r=int(input())\n",
        "area=3.14*(r**2)\n",
        "print(\"the area is\",area)"
      ],
      "execution_count": null,
      "outputs": [
        {
          "output_type": "stream",
          "text": [
            "2\n",
            "the area is 12.56\n"
          ],
          "name": "stdout"
        }
      ]
    },
    {
      "cell_type": "code",
      "metadata": {
        "id": "K2vF8KHt9M_M",
        "colab_type": "code",
        "colab": {
          "base_uri": "https://localhost:8080/",
          "height": 67
        },
        "outputId": "472f1df3-a42d-45bc-de11-76a9d63ab47e"
      },
      "source": [
        "b=int(input())\n",
        "h=int(input())\n",
        "area=(0.5*b*h)\n",
        "print(\"the area of triangle\",area)"
      ],
      "execution_count": null,
      "outputs": [
        {
          "output_type": "stream",
          "text": [
            "2\n",
            "3\n",
            "the area of triangle 3.0\n"
          ],
          "name": "stdout"
        }
      ]
    },
    {
      "cell_type": "code",
      "metadata": {
        "id": "eEkEMqeZ9ypg",
        "colab_type": "code",
        "colab": {
          "base_uri": "https://localhost:8080/",
          "height": 50
        },
        "outputId": "f0e256c9-bf36-4bec-bea0-86f6b718dc07"
      },
      "source": [
        "celsius=float(input())\n",
        "fahrenhiet=(celsius*1.8)+32\n",
        "print(\"the fahrenhiet is\",fahrenhiet)\n"
      ],
      "execution_count": null,
      "outputs": [
        {
          "output_type": "stream",
          "text": [
            "37.5\n",
            "the fahrenhiet is 99.5\n"
          ],
          "name": "stdout"
        }
      ]
    },
    {
      "cell_type": "code",
      "metadata": {
        "id": "ZdQ_J1qm-5p-",
        "colab_type": "code",
        "colab": {
          "base_uri": "https://localhost:8080/",
          "height": 67
        },
        "outputId": "ed4a1c1b-b89d-4a98-fafd-f8b8c34f85e8"
      },
      "source": [
        "l=int(input())\n",
        "b=int(input())\n",
        "area=l*b\n",
        "print(\"the area of rectangle is\",area)"
      ],
      "execution_count": null,
      "outputs": [
        {
          "output_type": "stream",
          "text": [
            "5\n",
            "10\n",
            "the area of rectangle is 50\n"
          ],
          "name": "stdout"
        }
      ]
    },
    {
      "cell_type": "code",
      "metadata": {
        "id": "pfiLPj8L_pSC",
        "colab_type": "code",
        "colab": {
          "base_uri": "https://localhost:8080/",
          "height": 50
        },
        "outputId": "32000f49-9827-4016-a331-64cf27518bbd"
      },
      "source": [
        "s=int(input())\n",
        "peri=4*s\n",
        "print(\"the perimeter is\",peri)"
      ],
      "execution_count": null,
      "outputs": [
        {
          "output_type": "stream",
          "text": [
            "4\n",
            "the perimeter is 16\n"
          ],
          "name": "stdout"
        }
      ]
    },
    {
      "cell_type": "code",
      "metadata": {
        "id": "JArwsSkRAK3N",
        "colab_type": "code",
        "colab": {
          "base_uri": "https://localhost:8080/",
          "height": 50
        },
        "outputId": "bc375cfc-d798-4028-d559-3298ef0b899f"
      },
      "source": [
        "r=int(input())\n",
        "cf=2*3.14*r\n",
        "print(\"the cf is\",cf)"
      ],
      "execution_count": null,
      "outputs": [
        {
          "output_type": "stream",
          "text": [
            "3\n",
            "the cf is 18.84\n"
          ],
          "name": "stdout"
        }
      ]
    },
    {
      "cell_type": "code",
      "metadata": {
        "id": "WC9q6g_DAidZ",
        "colab_type": "code",
        "colab": {
          "base_uri": "https://localhost:8080/",
          "height": 84
        },
        "outputId": "aa5dadb1-ad98-4448-dd66-686ad9de15ec"
      },
      "source": [
        "a=int(input())\n",
        "b=int(input())\n",
        "print(\"before swapping\",a,b)\n",
        "temp=a\n",
        "a=b\n",
        "b=temp\n",
        "print(\"after swapping\",a,b)"
      ],
      "execution_count": null,
      "outputs": [
        {
          "output_type": "stream",
          "text": [
            "4\n",
            "6\n",
            "before swapping 4 6\n",
            "after swapping 6 4\n"
          ],
          "name": "stdout"
        }
      ]
    },
    {
      "cell_type": "code",
      "metadata": {
        "id": "SXh428WJBM9d",
        "colab_type": "code",
        "colab": {}
      },
      "source": [
        ""
      ],
      "execution_count": null,
      "outputs": []
    }
  ]
}